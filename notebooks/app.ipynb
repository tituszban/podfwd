{
 "metadata": {
  "language_info": {
   "codemirror_mode": {
    "name": "ipython",
    "version": 3
   },
   "file_extension": ".py",
   "mimetype": "text/x-python",
   "name": "python",
   "nbconvert_exporter": "python",
   "pygments_lexer": "ipython3",
   "version": "3.9.1-final"
  },
  "orig_nbformat": 2,
  "kernelspec": {
   "name": "python3",
   "display_name": "Python 3",
   "language": "python"
  }
 },
 "nbformat": 4,
 "nbformat_minor": 2,
 "cells": [
  {
   "cell_type": "code",
   "execution_count": 2,
   "metadata": {},
   "outputs": [],
   "source": [
    "from email_parser import process_inbox\n",
    "from t2s import TextToSpeech\n",
    "from rss_gen import read, write, register_namespaces"
   ]
  },
  {
   "cell_type": "code",
   "execution_count": 3,
   "metadata": {},
   "outputs": [
    {
     "output_type": "stream",
     "name": "stdout",
     "text": [
      "['24', '25', '26']\n",
      "The TechCrunch Exchange - Bootstrapping to $80M ARR\n",
      "Startups Weekly - The next Zoom wants to be nothing like Zoom\n",
      "Daily Crunch - Roku buys Quibi's content library\n"
     ]
    }
   ],
   "source": [
    "inbox = list(process_inbox())"
   ]
  },
  {
   "cell_type": "code",
   "execution_count": 4,
   "metadata": {},
   "outputs": [
    {
     "output_type": "execute_result",
     "data": {
      "text/plain": [
       "[dict_keys(['title', 'date', 'description', 'content']),\n",
       " dict_keys(['title', 'date', 'description', 'content']),\n",
       " dict_keys(['title', 'date', 'description', 'content'])]"
      ]
     },
     "metadata": {},
     "execution_count": 4
    }
   ],
   "source": [
    "[i.keys() for i in inbox]"
   ]
  },
  {
   "cell_type": "code",
   "execution_count": 36,
   "metadata": {},
   "outputs": [
    {
     "output_type": "stream",
     "name": "stdout",
     "text": [
      "10\n"
     ]
    }
   ],
   "source": [
    "register_namespaces()\n",
    "root, items = read(\"starting_feed.xml\")"
   ]
  },
  {
   "cell_type": "code",
   "execution_count": 6,
   "metadata": {},
   "outputs": [],
   "source": [
    "def find_max_id(item):\n",
    "    return max([i[\"idx\"] for i in item])"
   ]
  },
  {
   "cell_type": "code",
   "execution_count": 7,
   "metadata": {},
   "outputs": [],
   "source": [
    "start_id = find_max_id(items) + 1"
   ]
  },
  {
   "cell_type": "code",
   "execution_count": 8,
   "metadata": {},
   "outputs": [],
   "source": [
    "inbox = [{**inb, \"idx\": i + start_id} for i, inb in enumerate(inbox)]"
   ]
  },
  {
   "cell_type": "code",
   "execution_count": 11,
   "metadata": {},
   "outputs": [
    {
     "output_type": "execute_result",
     "data": {
      "text/plain": [
       "[(dict_keys(['title', 'date', 'description', 'content', 'idx']), 806),\n",
       " (dict_keys(['title', 'date', 'description', 'content', 'idx']), 807),\n",
       " (dict_keys(['title', 'date', 'description', 'content', 'idx']), 808)]"
      ]
     },
     "metadata": {},
     "execution_count": 11
    }
   ],
   "source": [
    "[(i.keys(), i[\"idx\"]) for i in inbox]"
   ]
  },
  {
   "cell_type": "code",
   "execution_count": 12,
   "metadata": {},
   "outputs": [],
   "source": [
    "t2s = TextToSpeech()"
   ]
  },
  {
   "cell_type": "code",
   "execution_count": 14,
   "metadata": {},
   "outputs": [],
   "source": [
    "def upload_inbox(ibx):\n",
    "    return [{**i, \"url\": t2s.upload_lines(i[\"content\"], \"autopodcast\", f\"{i['idx']}.mp3\")}\n",
    "    for i in ibx]"
   ]
  },
  {
   "cell_type": "code",
   "execution_count": 15,
   "metadata": {},
   "outputs": [],
   "source": [
    "inbox = upload_inbox(inbox)"
   ]
  },
  {
   "cell_type": "code",
   "execution_count": 16,
   "metadata": {},
   "outputs": [
    {
     "output_type": "execute_result",
     "data": {
      "text/plain": [
       "[(dict_keys(['title', 'date', 'description', 'content', 'idx', 'url']),\n",
       "  'https://storage.googleapis.com/autopodcast/806.mp3'),\n",
       " (dict_keys(['title', 'date', 'description', 'content', 'idx', 'url']),\n",
       "  'https://storage.googleapis.com/autopodcast/807.mp3'),\n",
       " (dict_keys(['title', 'date', 'description', 'content', 'idx', 'url']),\n",
       "  'https://storage.googleapis.com/autopodcast/808.mp3')]"
      ]
     },
     "metadata": {},
     "execution_count": 16
    }
   ],
   "source": [
    "[(i.keys(), i[\"url\"]) for i in inbox]"
   ]
  },
  {
   "cell_type": "code",
   "execution_count": 46,
   "metadata": {},
   "outputs": [],
   "source": [
    "combined_items = [\n",
    "    *[(i[\"title\"], i[\"description\"], i[\"url\"], i[\"idx\"], i[\"date\"])\n",
    "    for i in items],\n",
    "    *[(i[\"title\"], i[\"description\"].decode(\"utf-8\"), i[\"url\"], i[\"idx\"], i[\"date\"]) for i in inbox]\n",
    "]"
   ]
  },
  {
   "cell_type": "code",
   "execution_count": 38,
   "metadata": {},
   "outputs": [
    {
     "output_type": "stream",
     "name": "stdout",
     "text": [
      "title <class 'str'>\ntitle <class 'str'>\ntitle <class 'str'>\ntitle <class 'str'>\ntitle <class 'str'>\ntitle <class 'str'>\ntitle <class 'str'>\ntitle <class 'str'>\ntitle <class 'str'>\ntitle <class 'str'>\nThe TechCrunch Exchange - Bootstrapping to $80M ARR <class 'str'>\nStartups Weekly - The next Zoom wants to be nothing like Zoom <class 'str'>\nDaily Crunch - Roku buys Quibi's content library <class 'str'>\n"
     ]
    }
   ],
   "source": [
    "# for title, description, *_ in combined_items:\n",
    "#     with open(f\"descriptions/{title}.txt\", \"w\", encoding=\"utf-8\") as f:\n",
    "#         print(title, type(description))\n",
    "#         f.write(description)"
   ]
  },
  {
   "cell_type": "code",
   "execution_count": 49,
   "metadata": {},
   "outputs": [],
   "source": [
    "write(root, combined_items, 0, \"feed.xml\")"
   ]
  },
  {
   "cell_type": "code",
   "execution_count": 50,
   "metadata": {},
   "outputs": [
    {
     "output_type": "execute_result",
     "data": {
      "text/plain": [
       "['TWiT 805: Come Together Like Voltron - Social media Trump ban, Section 230 in Biden era, nationalizing Alibaba',\n",
       " 'TWiT 804: The Bento Box Satellite - CES 2021 preview, streaming video in 2020, goodbye FarmVille',\n",
       " 'TWiT 803: Best of 2020 - The best TWiT highlights of the year!',\n",
       " \"TWiT 802: The Year in Review - OG TWiTs discuss the year's biggest stories and trends\",\n",
       " \"TWiT 801: I Can't Believe It's Not Minecraft - AirPods Max, Cyberpunk 2077, US Treasury hack, Halo Band\",\n",
       " \"TWiT 800: It's Coming from Leo2 - Salesforce buys Slack, Warner Bros' HBO Max deal, Ajit Pai, Timnit Gebru\",\n",
       " \"TWiT 799: Don't Tweet the Fleet - Comcast data cap, Black Friday, Tony Hsieh, Sherwin-Williams TikTok\",\n",
       " 'TWiT 798: The Lighthouse Keeper and His Robot Butler - Tech hearings, streaming Windows, RCS encryption',\n",
       " \"TWiT 797: There's Blubber All Over the Highway - Apple Silicon, Exploding Whale, TikTok\",\n",
       " 'TWiT 796: Celebrity Jeopardy in Heaven - Xbox Series X vs PS5, Biden & Tech, Apple Silicon',\n",
       " 'The TechCrunch Exchange - Bootstrapping to $80M ARR',\n",
       " 'Startups Weekly - The next Zoom wants to be nothing like Zoom',\n",
       " \"Daily Crunch - Roku buys Quibi's content library\"]"
      ]
     },
     "metadata": {},
     "execution_count": 50
    }
   ],
   "source": [
    "[i[0] for i in combined_items]"
   ]
  }
 ]
}