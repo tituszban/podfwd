{
 "metadata": {
  "language_info": {
   "codemirror_mode": {
    "name": "ipython",
    "version": 3
   },
   "file_extension": ".py",
   "mimetype": "text/x-python",
   "name": "python",
   "nbconvert_exporter": "python",
   "pygments_lexer": "ipython3",
   "version": "3.9.1-final"
  },
  "orig_nbformat": 2,
  "kernelspec": {
   "name": "python3",
   "display_name": "Python 3.9.1 64-bit ('env': venv)",
   "metadata": {
    "interpreter": {
     "hash": "8c58c2afb7c7773bd471f26da265faaca8231181b423f279bb68f315392d85c1"
    }
   }
  }
 },
 "nbformat": 4,
 "nbformat_minor": 2,
 "cells": [
  {
   "cell_type": "code",
   "execution_count": 9,
   "metadata": {},
   "outputs": [],
   "source": [
    "from feedgen.feed import FeedGenerator\n",
    "import datetime"
   ]
  },
  {
   "cell_type": "code",
   "execution_count": 12,
   "metadata": {},
   "outputs": [],
   "source": [
    "fg = FeedGenerator()\n",
    "fg.load_extension('podcast')\n",
    "fg.title(\"My test feed\")\n",
    "fg.link(href=\"http://tituszban.com\")\n",
    "fg.description(\"My test feed description\")\n",
    "fg.podcast.itunes_category('Technology', 'Podcasting')\n",
    "\n",
    "fe = fg.add_entry()\n",
    "fe.id('https://storage.googleapis.com/tituszban-autopod/test_audio.mp3')\n",
    "fe.title('The First Episode')\n",
    "fe.description('Test audio description')\n",
    "fe.enclosure('https://storage.googleapis.com/tituszban-autopod/test_audio.mp3', 0, 'audio/mpeg')\n",
    "\n",
    "fg.rss_str(pretty=True)\n",
    "fg.rss_file('podcast.xml')"
   ]
  }
 ]
}