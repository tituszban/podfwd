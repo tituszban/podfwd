{
 "metadata": {
  "language_info": {
   "codemirror_mode": {
    "name": "ipython",
    "version": 3
   },
   "file_extension": ".py",
   "mimetype": "text/x-python",
   "name": "python",
   "nbconvert_exporter": "python",
   "pygments_lexer": "ipython3",
   "version": "3.9.1-final"
  },
  "orig_nbformat": 2,
  "kernelspec": {
   "name": "python3",
   "display_name": "Python 3",
   "language": "python"
  }
 },
 "nbformat": 4,
 "nbformat_minor": 2,
 "cells": [
  {
   "cell_type": "code",
   "execution_count": 3,
   "metadata": {},
   "outputs": [],
   "source": [
    "from google.cloud import texttospeech"
   ]
  },
  {
   "cell_type": "code",
   "execution_count": 24,
   "metadata": {},
   "outputs": [],
   "source": [
    "from functools import reduce"
   ]
  },
  {
   "cell_type": "code",
   "execution_count": 4,
   "metadata": {},
   "outputs": [],
   "source": [
    "client = texttospeech.TextToSpeechClient.from_service_account_json(\"AutoPodcast-d352f15e5933.json\")"
   ]
  },
  {
   "cell_type": "code",
   "execution_count": 53,
   "metadata": {},
   "outputs": [
    {
     "output_type": "execute_result",
     "data": {
      "text/plain": [
       "4306"
      ]
     },
     "metadata": {},
     "execution_count": 53
    }
   ],
   "source": [
    "with open(\"short_sample.txt\", encoding=\"utf-8\") as f:\n",
    "    text = f.read()\n",
    "len(text)"
   ]
  },
  {
   "cell_type": "code",
   "execution_count": 5,
   "metadata": {},
   "outputs": [],
   "source": [
    "def t2s(text):\n",
    "    synthesis_input = texttospeech.SynthesisInput(ssml=text)\n",
    "    voice = texttospeech.VoiceSelectionParams(\n",
    "        name=\"en-US-Wavenet-A\", language_code=\"en-US\"\n",
    "    )\n",
    "    audio_config = texttospeech.AudioConfig(\n",
    "        audio_encoding=texttospeech.AudioEncoding.MP3\n",
    "    )\n",
    "    response = client.synthesize_speech(\n",
    "        input=synthesis_input, voice=voice, audio_config=audio_config\n",
    "    )\n",
    "\n",
    "    return response.audio_content"
   ]
  },
  {
   "cell_type": "code",
   "execution_count": 6,
   "metadata": {},
   "outputs": [],
   "source": [
    "def f2s(path):\n",
    "    with open(path, encoding=\"utf-8\") as f:\n",
    "        return t2s(f.read())"
   ]
  },
  {
   "cell_type": "code",
   "execution_count": 91,
   "metadata": {},
   "outputs": [],
   "source": [
    "files = [\"part1.txt\", \"part2.txt\", \"part3.txt\", \"part4.txt\"]\n",
    "\n",
    "snippets = [f2s(p) for p in files]\n"
   ]
  },
  {
   "cell_type": "code",
   "execution_count": 8,
   "metadata": {},
   "outputs": [],
   "source": [
    "# The response's audio_content is binary.\n",
    "def save_snippet(s, path):\n",
    "    with open(path, \"wb\") as out:\n",
    "        # Write the response to the output file.\n",
    "        out.write(s)"
   ]
  },
  {
   "cell_type": "code",
   "execution_count": 33,
   "metadata": {},
   "outputs": [],
   "source": [
    "path = \"ssml/The TechCrunch Exchange - Bootstrapping to $80M ARR.txt\"\n",
    "with open(path) as f:\n",
    "    lines = f.readlines()\n",
    "snippets = [t2s(l) for l in lines]"
   ]
  },
  {
   "cell_type": "code",
   "execution_count": 34,
   "metadata": {},
   "outputs": [],
   "source": [
    "combined_file = reduce(lambda a, b: a + b, snippets)"
   ]
  },
  {
   "cell_type": "code",
   "execution_count": 35,
   "metadata": {},
   "outputs": [],
   "source": [
    "save_snippet(combined_file, \"Exchange.mp3\")"
   ]
  },
  {
   "cell_type": "code",
   "execution_count": 37,
   "metadata": {},
   "outputs": [],
   "source": [
    "from google.cloud import storage\n",
    "import io"
   ]
  },
  {
   "cell_type": "code",
   "execution_count": 38,
   "metadata": {},
   "outputs": [],
   "source": [
    "storage_client = storage.Client.from_service_account_json(\"AutoPodcast-d352f15e5933.json\")"
   ]
  },
  {
   "cell_type": "code",
   "execution_count": 121,
   "metadata": {},
   "outputs": [],
   "source": [
    "def upload_bytes(bucket_name, blob_name, content):\n",
    "    bucket = storage_client.get_bucket(bucket_name)\n",
    "    blob = bucket.blob(blob_name)\n",
    "    blob.upload_from_file(io.BytesIO(content))\n",
    "    return blob.public_url"
   ]
  },
  {
   "cell_type": "code",
   "execution_count": 122,
   "metadata": {},
   "outputs": [
    {
     "output_type": "execute_result",
     "data": {
      "text/plain": [
       "'https://storage.googleapis.com/autopodcast/podcast.mp3'"
      ]
     },
     "metadata": {},
     "execution_count": 122
    }
   ],
   "source": [
    "upload_bytes(\"autopodcast\", \"podcast.mp3\", combined_file)"
   ]
  }
 ]
}